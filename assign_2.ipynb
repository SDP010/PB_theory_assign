{
 "cells": [
  {
   "cell_type": "markdown",
   "id": "5791cceb",
   "metadata": {},
   "source": [
    "## 1.\n",
    "\n",
    "values of the boolean are 0 and 1.\n",
    "\n",
    "we write 'True' for 1 and 'False' for 0."
   ]
  },
  {
   "cell_type": "markdown",
   "id": "98d67693",
   "metadata": {},
   "source": [
    "### 2. Boolean operators..\n",
    "and, or, not"
   ]
  },
  {
   "cell_type": "markdown",
   "id": "547b9aae",
   "metadata": {},
   "source": [
    "### 3. list of boolean operators with truth table :\n",
    "\n",
    "and table:\n",
    "\n",
    "0 and 0 = 0\n",
    "\n",
    "0 and 1 = 0\n",
    "\n",
    "1 and 0 = 0\n",
    "\n",
    "1 and 1 = 1\n",
    "\n",
    "or table:\n",
    "\n",
    "0 or 0 = 0\n",
    "\n",
    "0 or 1 = 1\n",
    "\n",
    "1 or 0 = 1\n",
    "\n",
    "1 or 1 = 1\n",
    "\n",
    "not table:\n",
    "\n",
    "not 0 = 1\n",
    "\n",
    "not 1 = 0\n",
    "\n"
   ]
  },
  {
   "cell_type": "markdown",
   "id": "e8ba92ef",
   "metadata": {},
   "source": [
    "### 4.\n",
    "\n",
    "value of (5>4) and(3==5)\n",
    "\n",
    "0\n",
    "\n",
    "value of not(5>4)\n",
    "\n",
    "0\n",
    "\n",
    "(5>4)or(3==5)\n",
    "\n",
    "1\n",
    "\n",
    "not((5>4)or(3==5))\n",
    "\n",
    "0\n",
    "\n",
    "(True and True)and(True==False)\n",
    "\n",
    "0\n",
    "\n",
    "(not False)or(not True)\n",
    "\n",
    "1"
   ]
  },
  {
   "cell_type": "markdown",
   "id": "15328361",
   "metadata": {},
   "source": [
    "### 6. defernce between equal to and assignnment operator.\n",
    "equal to operator is comparison operator and it returns 0 or 1\n",
    "\n",
    "we use assignment operstor when we assign a value to a variale\n",
    "\n",
    "###  7.\n",
    "if block\n",
    "\n",
    "if spam==10:\n",
    "\n",
    "print('eggs')\n",
    "\n",
    "elif block\n",
    "\n",
    "if spam>5\n",
    "\n",
    "print('bacon')\n",
    "\n",
    "else block\n",
    "\n",
    "else:\n",
    "\n",
    "print('spam')\n",
    "\n",
    "print('ham')\n",
    "\n",
    "print('spam')\n",
    "\n",
    "\n",
    "### 8.\n",
    "\n",
    "f spam==1:\n",
    "\n",
    "print('hello')\n",
    "if spam==2:\n",
    "\n",
    "print('howdy')\n",
    "else:\n",
    "\n",
    "print('greetings!')\n",
    "\n",
    "\n",
    "### 9.\n",
    "if my program stuck in endless loop, i will press\n",
    "\n",
    "ctrl+c\n",
    "\n",
    "### 10. difference between break and continue\n",
    "break statement break the loop in which loop it is situated\n",
    "\n",
    "continue statement skips a single iteration in that loop. it prevents control to go down under the continue statement\n",
    "\n",
    "### 11.\n",
    "in range(10) and range(0,10) and range(0,10,1) there is no difference"
   ]
  },
  {
   "cell_type": "code",
   "execution_count": 4,
   "id": "325376fc",
   "metadata": {},
   "outputs": [
    {
     "name": "stdout",
     "output_type": "stream",
     "text": [
      "1 2 3 4 5 6 7 8 9 10 \n",
      "\n",
      "1,2,3,4,5,6,7,8,9,10,"
     ]
    }
   ],
   "source": [
    "#12.\n",
    "\n",
    "# using for loop\n",
    "for i in range(1,11,1):\n",
    "    print(i, end=' ')\n",
    "print('\\n')\n",
    "\n",
    "# print('')\n",
    "\n",
    "# using while loop\n",
    "i=1\n",
    "while i<=10:\n",
    "    print(i, end=',')\n",
    "    i=i+1"
   ]
  },
  {
   "cell_type": "markdown",
   "id": "3c336c72",
   "metadata": {},
   "source": [
    "### 13.\n",
    "there is a function bacon() inside a module spam\n",
    "\n",
    "after import spam we press spam.bacon() to call the function"
   ]
  },
  {
   "cell_type": "code",
   "execution_count": null,
   "id": "c6684175",
   "metadata": {},
   "outputs": [],
   "source": []
  }
 ],
 "metadata": {
  "kernelspec": {
   "display_name": "Python 3 (ipykernel)",
   "language": "python",
   "name": "python3"
  },
  "language_info": {
   "codemirror_mode": {
    "name": "ipython",
    "version": 3
   },
   "file_extension": ".py",
   "mimetype": "text/x-python",
   "name": "python",
   "nbconvert_exporter": "python",
   "pygments_lexer": "ipython3",
   "version": "3.9.7"
  }
 },
 "nbformat": 4,
 "nbformat_minor": 5
}

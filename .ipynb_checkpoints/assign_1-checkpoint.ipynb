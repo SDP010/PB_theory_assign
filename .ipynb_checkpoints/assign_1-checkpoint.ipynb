{
 "cells": [
  {
   "cell_type": "markdown",
   "id": "240de804",
   "metadata": {},
   "source": [
    "### 1.\n",
    "*,-,/,+ are expression\n",
    "\n",
    "'hello', -87.8, 6 are values\n",
    "\n",
    "### 2. defference between string and variable: \n",
    "\n",
    "A variable is such an entity which can store data in any data-type. a variable may be integer, float or string.\n",
    "\n",
    "A string is a datatype, it consists of words enclosed in \" \".\n",
    "\n",
    "### 3. Describe three datatypes\n",
    "int : it is integer\n",
    "\n",
    "float: it is real numbers. it has digits after the point. e.g., 4.0, 4.23 etc.\n",
    "\n",
    "string: it consists of words or number enclosed in double quotes or single quotes.\n",
    "\n",
    "### 4. what is expression made up of? what do all expressions do?\n",
    "expression is made of operators and operands. e.g., 4+5, 4/5\n",
    "\n",
    "expressions produce new value.\n",
    "\n",
    "### 5. differnce between expression and statement\n",
    "expression gives some value. but expression perform some action e.g., if statement...\n",
    "\n",
    "### 6. bacon=22\n",
    "bacon+1\n",
    "\n",
    "after completion of the code bacon contains 22\n",
    "\n",
    "### 7.\n",
    "'spam' + 'spamspam' becomes 'spamspamspam'\n",
    "\n",
    "'spam'*3 becomes 'spamspamspam'\n",
    "\n",
    "### 8. eggs is valid variable but 100 is not.\n",
    "variable names cannot begin with numbers\n",
    "\n",
    "### 9.\n",
    "int()\n",
    "\n",
    "float()\n",
    "\n",
    "str()\n",
    "\n",
    "### 10.\n",
    "'I have eaten' is string but 99 is an integer. string and integer can not be added.\n",
    "\n",
    "to fix the error we have to put 99 under double or single quotes. i.e., '99'\n",
    "\n",
    " "
   ]
  },
  {
   "cell_type": "code",
   "execution_count": null,
   "id": "710e248f",
   "metadata": {},
   "outputs": [],
   "source": []
  }
 ],
 "metadata": {
  "kernelspec": {
   "display_name": "Python 3 (ipykernel)",
   "language": "python",
   "name": "python3"
  },
  "language_info": {
   "codemirror_mode": {
    "name": "ipython",
    "version": 3
   },
   "file_extension": ".py",
   "mimetype": "text/x-python",
   "name": "python",
   "nbconvert_exporter": "python",
   "pygments_lexer": "ipython3",
   "version": "3.9.7"
  }
 },
 "nbformat": 4,
 "nbformat_minor": 5
}

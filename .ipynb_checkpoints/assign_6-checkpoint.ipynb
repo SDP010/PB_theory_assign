{
 "cells": [
  {
   "cell_type": "markdown",
   "id": "b5077a4f",
   "metadata": {},
   "source": [
    "\n",
    "### 1. escape charachter and how it it is used\n",
    "to insert illegal charachters in a string we use escape character.\n",
    "\n",
    "it is used by a backslash follwed by the charachter\n",
    "\n",
    "### 2. escape charachter n is for new line and t is for tab\n",
    "### 3. to include a backslash in a string we use double backslash...\\\n",
    "### 4. single quote in \"Howl's Moving Castle\" is not a problem as string is under double quote\n",
    "### 5. if we don't want to use new line character in string then for each line we use print() function\n",
    "### 6. \"Hello World!\"[1]='e'\n",
    "'Hello, World!'[0:5]='Hello'\n",
    "\n",
    "'Hello World!'[:5]='Hello'\n",
    "\n",
    "'Hello World!'[3:]='lo, World!\n",
    "\n",
    "### 7. 'Hello'.upper()='HELLO'\n",
    "'Hello'.upper().isupper()=True\n",
    "\n",
    "'Hello'.upper().lower()='hello'\n",
    "\n",
    "### 8. 'Remember, remember, the fifth of july'.split()\n",
    "['Remember,' , 'remember,', 'the', 'fifth', 'of', 'july']\n",
    "\n",
    "'-'.join('There can only one'.split())='There-can-only-one\n",
    "\n",
    "### 9. ljust() for left-justifying, rjust() for right-justifying, center() for centering a string\n",
    "### 10. best way of removing whitespace character from the start or end\n",
    "lstrip() for beginning or rstrip() for last and strip() for both side\n",
    "\n",
    " "
   ]
  },
  {
   "cell_type": "code",
   "execution_count": null,
   "id": "0e8891e9",
   "metadata": {},
   "outputs": [],
   "source": []
  }
 ],
 "metadata": {
  "kernelspec": {
   "display_name": "Python 3 (ipykernel)",
   "language": "python",
   "name": "python3"
  },
  "language_info": {
   "codemirror_mode": {
    "name": "ipython",
    "version": 3
   },
   "file_extension": ".py",
   "mimetype": "text/x-python",
   "name": "python",
   "nbconvert_exporter": "python",
   "pygments_lexer": "ipython3",
   "version": "3.9.7"
  }
 },
 "nbformat": 4,
 "nbformat_minor": 5
}

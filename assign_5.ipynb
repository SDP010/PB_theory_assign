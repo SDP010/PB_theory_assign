{
 "cells": [
  {
   "cell_type": "markdown",
   "id": "cf14e057",
   "metadata": {},
   "source": [
    "\n",
    "### 1. empty dictionary code\n",
    "{}\n",
    "\n",
    "### 2. what is the value of a dictionary value with key 'foo' and value 42?\n",
    "{'key':42}\n",
    "\n",
    "### 3. significant distinction between list and dictionry\n",
    "items in the dictionary can be accessed by its key but in list items can be accessed by its index\n",
    "\n",
    "### 4. there will be key error while we want to access spam[foo] while spam={'bar':100}\n",
    "### 5. spam is dictionary. difference between expression 'cat'in spam and 'cat'in spam.keys()\n",
    "no difference\n",
    "\n",
    "### 6. difference between expression 'cat'in spam and 'cat'in spam.values()\n",
    "'cat' in spam is an keys but in spam.values() it is value\n",
    "\n",
    "### 7. shortcut for\n",
    "if 'color'is not in spam\n",
    "\n",
    "     spam['color']='black'\n",
    "\n",
    "spam.setdefault('color', 'black')\n",
    "\n",
    "### 8. how to 'pretty print' dictionary values using which module and function?\n",
    "pprint module and pprint() function\n",
    "\n",
    " "
   ]
  },
  {
   "cell_type": "code",
   "execution_count": null,
   "id": "9a9139af",
   "metadata": {},
   "outputs": [],
   "source": []
  }
 ],
 "metadata": {
  "kernelspec": {
   "display_name": "Python 3 (ipykernel)",
   "language": "python",
   "name": "python3"
  },
  "language_info": {
   "codemirror_mode": {
    "name": "ipython",
    "version": 3
   },
   "file_extension": ".py",
   "mimetype": "text/x-python",
   "name": "python",
   "nbconvert_exporter": "python",
   "pygments_lexer": "ipython3",
   "version": "3.9.7"
  }
 },
 "nbformat": 4,
 "nbformat_minor": 5
}

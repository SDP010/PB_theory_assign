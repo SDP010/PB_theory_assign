{
 "cells": [
  {
   "cell_type": "markdown",
   "id": "57808772",
   "metadata": {},
   "source": [
    "\n",
    "### 1.\n",
    "[] is list. 2,3,\n",
    "\n",
    "### 2. spam=[2,4,5,8]. how to add 'hello' in the list?\n",
    "spam.append('hello')\n",
    "\n",
    "### 3. spam=['a', 'b', 'c','d'] value of spam[int(int('3' * 2) / 11)]?\n",
    "spam[3]= 'd'\n",
    "\n",
    "### 4. spam[-1]\n",
    "'d'\n",
    "\n",
    "### 5. spam[:2]\n",
    "['a', 'b']\n",
    "\n",
    "### 6. bacon=[3.14 ,  'cat', 11, 'cat', True]\n",
    "bacon.index('cat')=1\n",
    "\n",
    "### 7. bacon.append(99)\n",
    "after that 99 added in the list at the last\n",
    "\n",
    "bacon=[3.14, 'cat', 11, 'cat', True, '99]\n",
    "\n",
    "### 8. bacon.remove('cat')\n",
    "it removes the 1st 'cat' in the list\n",
    "\n",
    "### 9. list concatination operator: '+'\n",
    "list replication operator: '*'\n",
    "\n",
    "### 10. difference between append() and insert()\n",
    "by append() an element entered in the list at the last position\n",
    "\n",
    "by insert() we can insert an element at our chosen index\n",
    "\n",
    "### 11. two methods for removing items from a list\n",
    "pop() and remove()\n",
    "\n",
    "### 12. how list and string values are identical\n",
    "they both have index\n",
    "\n",
    "### 13. difference between tuples and list\n",
    "tuples are immutable but lists are mutable\n",
    "\n",
    "### 14. tuple that contains the integer 42\n",
    "(42)\n",
    "\n",
    "### 15. tuple(list object) to get tuple value of a list\n",
    "list(tuple object) to get list value of a tuple\n",
    "\n",
    "### 16. variables that contain list values\n",
    "they can be int, float, string, tuples, dictionaries, list\n",
    "\n",
    "### 17. distinguish between copy.copy() and copy.deepcopy()\n",
    "in copy module by deepcopy() we can copy a list in another variable and any change in the copied list do not refflect in the original list\n",
    "\n",
    "by copy() we can copy a list in another variable and any change in the copied list reflect in the original list\n",
    "\n",
    " "
   ]
  },
  {
   "cell_type": "code",
   "execution_count": null,
   "id": "8de2294c",
   "metadata": {},
   "outputs": [],
   "source": []
  }
 ],
 "metadata": {
  "kernelspec": {
   "display_name": "Python 3 (ipykernel)",
   "language": "python",
   "name": "python3"
  },
  "language_info": {
   "codemirror_mode": {
    "name": "ipython",
    "version": 3
   },
   "file_extension": ".py",
   "mimetype": "text/x-python",
   "name": "python",
   "nbconvert_exporter": "python",
   "pygments_lexer": "ipython3",
   "version": "3.9.7"
  }
 },
 "nbformat": 4,
 "nbformat_minor": 5
}

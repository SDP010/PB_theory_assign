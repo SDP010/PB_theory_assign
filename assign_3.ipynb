{
 "cells": [
  {
   "cell_type": "markdown",
   "id": "710806ba",
   "metadata": {},
   "source": [
    "\n",
    "### 1. advantage of function\n",
    "function reduce the length of code, it makes a code more easier to read and understandable to others\n",
    "\n",
    "### 2. when a function runs in a code\n",
    "when function is called\n",
    "\n",
    "### 3. what statement creates a function\n",
    "def keyword followed by function name with 1st bracket and : creates a function\n",
    "\n",
    "### 4. deffernce between function and function call\n",
    "a funcion is a procedure by which we perform a particular task\n",
    "\n",
    "a funnctionn call is a method by which we start the procedure to perform a difinte task\n",
    "\n",
    "### 5. number of global and local scopes\n",
    "there is one global scope in a program\n",
    "\n",
    "number of local scopes\n",
    "\n",
    "every time we call a function there create a local scope of variables\n",
    "\n",
    "### 6.\n",
    "after returns the local scope of variables ends.\n",
    "\n",
    "### 7. concept of return value\n",
    "it returns the result after the function execution to the caller\n",
    "\n",
    "### 8.\n",
    "if a function has no return statement then the return value is none\n",
    "\n",
    "### 9.\n",
    "to refer to the global variable we can use global keyword\n",
    "\n",
    "### 10. datatype of None\n",
    "Nonetype\n",
    "\n",
    "### 11.\n",
    "if i don't have such module named areallyourpetsnamederic, the statement\n",
    "\n",
    "import areallyourpetsnamederic gives error\n",
    "\n",
    "### 12. from a module spam if we have to call the function bacon()\n",
    "after importing spam module we use spam.bacon()\n",
    "\n",
    "### 13. how to save a program from crashing if it encounters an error?\n",
    "we can use exception handling i.e., try, exception syntax\n",
    "\n",
    "### 14. purpose of try clause\n",
    "try block takes the suspicious code inside itself. the code will executed until control doesn't face any error\n",
    "\n",
    "purpose of except block\n",
    "\n",
    "if there is an error in try block, the error is handeld by the except block\n",
    "\n",
    " "
   ]
  },
  {
   "cell_type": "code",
   "execution_count": null,
   "id": "e1cc7527",
   "metadata": {},
   "outputs": [],
   "source": []
  }
 ],
 "metadata": {
  "kernelspec": {
   "display_name": "Python 3 (ipykernel)",
   "language": "python",
   "name": "python3"
  },
  "language_info": {
   "codemirror_mode": {
    "name": "ipython",
    "version": 3
   },
   "file_extension": ".py",
   "mimetype": "text/x-python",
   "name": "python",
   "nbconvert_exporter": "python",
   "pygments_lexer": "ipython3",
   "version": "3.9.7"
  }
 },
 "nbformat": 4,
 "nbformat_minor": 5
}
